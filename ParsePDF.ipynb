{
 "cells": [
  {
   "cell_type": "code",
   "execution_count": 2,
   "metadata": {},
   "outputs": [],
   "source": [
    "from tabula import read_pdf\n",
    "import os\n",
    "import pandas as pd"
   ]
  },
  {
   "cell_type": "markdown",
   "metadata": {},
   "source": [
    "#### Parsa i PDF.\n",
    "Salva un csv per pdf con le colonne: speed, time.\n",
    "Il nome del file è: targa_voucher_idcrash_giorno-mese-anno-ore-minuti-secondi.csv\n",
    "Per Viasat è necessario ricampionare al secondo le velocità interpolando valori vicini.\n",
    "\n",
    "Legge i pdf dalla cartella salvata nella variabile directory,\n",
    "e li salva nella sottocartella \"CSV\" (da creare manualmente)."
   ]
  },
  {
   "cell_type": "code",
   "execution_count": 28,
   "metadata": {},
   "outputs": [
    {
     "name": "stdout",
     "output_type": "stream",
     "text": [
      "1 viasat\n",
      "2 vodafone\n"
     ]
    }
   ],
   "source": [
    "directory = './PDF_NON_ANOM'\n",
    "count_file = 0\n",
    "for root,_,files in os.walk(directory):\n",
    "    for file in files:\n",
    "        if not file.endswith('pdf'):\n",
    "            continue\n",
    "        count_file += 1\n",
    "        try:\n",
    "            dff = pd.DataFrame()\n",
    "            if len(file.split('_'))==5: # vodafone\n",
    "                print(count_file, 'vodafone')\n",
    "                df = read_pdf(os.path.join(root,file), pages=8).iloc[1:]\n",
    "                dff['speed'] = df['Velocità']\n",
    "                dff['time'] = df['Tempo'].apply(lambda r: r.split()[1])\n",
    "                # pag1\n",
    "                df = read_pdf(os.path.join(root,file), pages=1)\n",
    "                #print(df)\n",
    "                targa = df.iloc[2][0].strip('Targa ')\n",
    "                voucher = df.iloc[7][4]\n",
    "                # pag 2\n",
    "                df = read_pdf(os.path.join(root,file), pages=2)\n",
    "                idcrash = df.iloc[0][1]\n",
    "                data = df.iloc[1][1].split()[1].replace('/','-')\n",
    "                ora = df.iloc[1][1].split()[2].replace(':','-')\n",
    "                file_name = '_'.join([targa,str(voucher),str(idcrash),data,ora])\n",
    "                dff.to_csv('CSV\\\\'+file_name+'.csv', sep=';', index = False)\n",
    "            else:\n",
    "                df = read_pdf(os.path.join(root,file), pages=4)\n",
    "                if 'DOSSIER SCATOLA NERA' in list(df.columns): # viasat\n",
    "                    print(count_file, 'viasat')\n",
    "                    df = df.iloc[5:]\n",
    "                    dff['speed'] = df['DOSSIER SCATOLA NERA'].apply(lambda r: float(r.split()[1].replace(',','.')))\n",
    "                    dff['time'] = df['DOSSIER SCATOLA NERA'].apply(lambda r: r.split()[0].replace('.',':'))\n",
    "                    dff['time'] = pd.to_datetime(dff['time'], format='%H:%M:%S')\n",
    "                    dff = dff.set_index('time').resample('1S').interpolate(method='linear').reset_index()\n",
    "                    dff['time'] = dff['time'].apply(lambda r: str(r).split()[1])\n",
    "                    dff = dff.iloc[14:55]\n",
    "                    # pag1\n",
    "                    df = read_pdf(os.path.join(root,file), pages=1)\n",
    "                    data = df.iloc[20][0].strip('Data ').replace('/','-')\n",
    "                    ora = df.iloc[20][1][5:12].replace('.','-')\n",
    "                    targa = df.iloc[7][0].strip('Targa ')\n",
    "                    voucher = df.iloc[5][2]\n",
    "                    # pag2\n",
    "                    df = read_pdf(os.path.join(root,file), pages=2)\n",
    "                    idcrash = df.iloc[0][3]\n",
    "                    file_name = '_'.join([targa,str(voucher),str(idcrash),data,ora])\n",
    "                    dff.to_csv('CSV\\\\'+file_name+'.csv', sep=';', index = False)\n",
    "                else:  # infomobiliy\n",
    "                    print(count_file, 'infomobility')\n",
    "                    #dff['speed'] = df['Velocità Km/h']\n",
    "                    #dff['time'] = df['Data'].apply(lambda r: r.split()[1])\n",
    "                    #dff.to_csv('CSV\\\\'+file.rstrip('.pdf')+'.csv', sep=';')\n",
    "        except Exception as e:\n",
    "            print('errore {} su file {}'.format(e,file))"
   ]
  },
  {
   "cell_type": "code",
   "execution_count": null,
   "metadata": {},
   "outputs": [],
   "source": []
  },
  {
   "cell_type": "code",
   "execution_count": null,
   "metadata": {},
   "outputs": [],
   "source": []
  }
 ],
 "metadata": {
  "kernelspec": {
   "display_name": "Python 3",
   "language": "python",
   "name": "python3"
  },
  "language_info": {
   "codemirror_mode": {
    "name": "ipython",
    "version": 3
   },
   "file_extension": ".py",
   "mimetype": "text/x-python",
   "name": "python",
   "nbconvert_exporter": "python",
   "pygments_lexer": "ipython3",
   "version": "3.7.0"
  }
 },
 "nbformat": 4,
 "nbformat_minor": 2
}
